{
    "cells": [
        {
            "metadata": {
                "collapsed": true
            },
            "cell_type": "markdown",
            "source": "# Starting a New Restaurant in San Francisco"
        },
        {
            "metadata": {},
            "cell_type": "markdown",
            "source": "## Business Problem"
        },
        {
            "metadata": {},
            "cell_type": "markdown",
            "source": "It's a rainy weekend in San Francisco and you're sitting at a table across with your three best friends, spit-balling dreams of owning\nyour own restaurant. You don't know much about what you have to do logistically to acquire or build a restaurant, but you and your friends \nseem to have millions of ideas for the types of drinks, food and atmosphere that would make your restaurant the best in the city.\nYou have a heated debate over the optimal neighborhood for setting up shop, but you can all agree that you would like it to be located\nin a safer part of the city and in a spot where people already tend to hang out. Assuming money isn't an issue, and you can just charge\n$9 for a beer to keep up with being located in the more expensive parts of town, how can you figure out the best place in the city\nto start your dream Restaurant?\n\nThat's what this project aims to figure out."
        },
        {
            "metadata": {},
            "cell_type": "markdown",
            "source": "## Target Audience"
        },
        {
            "metadata": {},
            "cell_type": "markdown",
            "source": "The target audience of this report would be anyone who wants to buy or build a restaurant in San Francisco, or anyone in San Francisco just looking for a nice area to have food and drink"
        },
        {
            "metadata": {},
            "cell_type": "markdown",
            "source": "# Data"
        },
        {
            "metadata": {},
            "cell_type": "markdown",
            "source": "In order to best make this decision, we're gonna need some data. Fortunately, the city of San Francisco has hundreds of public datasets that describe various aspects of the city, and Foursquare API allows free access to some of its location and venue data.\n\nAltogether, we are looking at three sets of data for our analysis:\n\n1. [San Francisco Crime Data](https://data.sfgov.org/Public-Safety/Police-Department-Incident-Reports-2018-to-Present/wg3w-h783).\n- This is going to help us by providing a list of every neighborhood in San Francisco, and allowing us to select one of the safest areas for our restaurant.\n\n2. [San Francisco Registered Business Data](https://data.sfgov.org/Economy-and-Community/Registered-Business-Locations-San-Francisco/g8m3-pdis)\n- This is going to help us roughly gauge the foot traffic in each neighborhood of San Francisco (at least on the weekdays) by providing the number of businesses located within each neighborhood.\n\n\n3. Foursquare API\n- Foursquare data is robust and provides location data for Apple and Uber. Foursquare API allows you to retrieve information about the most popular spots in each neighborhood in San Francisco. This will be another good indication of foot traffic for particular venue types. Calling the Foursquare API returns a JSON file, which can be turned into a dataframe for analysis in python."
        },
        {
            "metadata": {},
            "cell_type": "code",
            "source": "",
            "execution_count": null,
            "outputs": []
        }
    ],
    "metadata": {
        "kernelspec": {
            "name": "python3",
            "display_name": "Python 3.7",
            "language": "python"
        },
        "language_info": {
            "name": "python",
            "version": "3.7.10",
            "mimetype": "text/x-python",
            "codemirror_mode": {
                "name": "ipython",
                "version": 3
            },
            "pygments_lexer": "ipython3",
            "nbconvert_exporter": "python",
            "file_extension": ".py"
        }
    },
    "nbformat": 4,
    "nbformat_minor": 1
}